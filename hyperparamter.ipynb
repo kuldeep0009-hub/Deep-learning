{
  "nbformat": 4,
  "nbformat_minor": 0,
  "metadata": {
    "colab": {
      "provenance": [],
      "authorship_tag": "ABX9TyMNkJv8C4Br8JR0iwPYckBF",
      "include_colab_link": true
    },
    "kernelspec": {
      "name": "python3",
      "display_name": "Python 3"
    },
    "language_info": {
      "name": "python"
    }
  },
  "cells": [
    {
      "cell_type": "markdown",
      "metadata": {
        "id": "view-in-github",
        "colab_type": "text"
      },
      "source": [
        "<a href=\"https://colab.research.google.com/github/kuldeep0009-hub/Deep-learning/blob/main/hyperparamter.ipynb\" target=\"_parent\"><img src=\"https://colab.research.google.com/assets/colab-badge.svg\" alt=\"Open In Colab\"/></a>"
      ]
    },
    {
      "cell_type": "code",
      "source": [
        "#pip install --upgrade scikeras scikit-learn\n"
      ],
      "metadata": {
        "id": "IMi-CsgB-Efz"
      },
      "execution_count": 1,
      "outputs": []
    },
    {
      "cell_type": "code",
      "execution_count": 2,
      "metadata": {
        "id": "gAAlIpHnDkUw"
      },
      "outputs": [],
      "source": [
        "import pandas as pd\n",
        "import tensorflow as tf\n",
        "from sklearn.model_selection import train_test_split,GridSearchCV\n",
        "from sklearn.pipeline import Pipeline\n",
        "from sklearn.preprocessing import StandardScaler,LabelEncoder,OneHotEncoder\n",
        "from scikeras.wrappers import KerasClassifier\n",
        "from tensorflow.keras.models import Sequential\n",
        "from tensorflow.keras.layers import Dense\n",
        "from tensorflow.keras.callbacks import EarlyStopping\n"
      ]
    },
    {
      "cell_type": "code",
      "source": [
        "df=pd.read_csv('Churn_Modelling.csv')"
      ],
      "metadata": {
        "id": "dEcXc2zmDrX0"
      },
      "execution_count": 3,
      "outputs": []
    },
    {
      "cell_type": "code",
      "source": [
        "df=df.drop(['RowNumber','CustomerId','Surname'],axis=1)\n",
        "\n",
        "label_encode=LabelEncoder()\n",
        "df['Gender']=label_encode.fit_transform(df['Gender'])\n",
        "one_hot=OneHotEncoder(handle_unknown='ignore')\n",
        "geo_encode=one_hot.fit_transform(df[['Geography']]).toarray()\n",
        "geo_encode_df=pd.DataFrame(geo_encode,columns=one_hot.get_feature_names_out(['Geography']))\n",
        "\n",
        "df=pd.concat([df.drop('Geography',axis=1),geo_encode_df],axis=1)\n",
        "\n",
        "y=df['Exited']\n",
        "x=df.drop(['Exited'],axis=1)\n",
        "x_train,x_test,y_train,y_test=train_test_split(x,y,test_size=0.20,random_state=42)\n",
        "\n",
        "scaler=StandardScaler()\n",
        "x_train=scaler.fit_transform(x_train)\n",
        "x_test=scaler.transform(x_test)"
      ],
      "metadata": {
        "id": "q1qX1amxINF1"
      },
      "execution_count": 4,
      "outputs": []
    },
    {
      "cell_type": "code",
      "source": [
        "\n",
        "import pickle\n",
        "with open('label_encoder.pkl','wb') as file:\n",
        "  pickle.dump(label_encode,file)\n",
        "with open('one_hott.pkl','wb') as file:\n",
        "  pickle.dump(one_hot,file)\n",
        "with open('scalerr.pkl','wb') as file:\n",
        "  pickle.dump(scaler,file)"
      ],
      "metadata": {
        "id": "-0gyZpKDJXAG"
      },
      "execution_count": 5,
      "outputs": []
    },
    {
      "cell_type": "code",
      "source": [
        "#define a function to create the model and try different parameters(KerasClassifier)\n",
        "\n",
        "def create_model(neurons=32,layers=1):\n",
        "  model=Sequential()\n",
        "  model.add(Dense(neurons,activation='relu',input_shape=(x_train.shape[1],)))\n",
        "\n",
        "  for _ in range(layers-1):\n",
        "    model.add(Dense(neurons,activation='relu'))\n",
        "  model.add(Dense(1,activation='sigmoid'))\n",
        "  model.compile(optimizer='adam',loss='binary_crossentropy',metrics=['accuracy'])\n",
        "  return model\n",
        "\n"
      ],
      "metadata": {
        "id": "n9tDWF6zJ114"
      },
      "execution_count": 6,
      "outputs": []
    },
    {
      "cell_type": "code",
      "source": [
        "##create keras classifier\n",
        "model=KerasClassifier(model=create_model,verbose=0)"
      ],
      "metadata": {
        "id": "ropg98_cLdAo"
      },
      "execution_count": 7,
      "outputs": []
    },
    {
      "cell_type": "code",
      "source": [
        "## define grid search parameters\n",
        "\n",
        "param_grid={\n",
        "    'model__neurons':[16, 32, 64, 128],\n",
        "    'model__layers':[1, 2],\n",
        "    'batch_size':[16,32],\n",
        "    'epochs':[50, 100]\n",
        "}"
      ],
      "metadata": {
        "id": "uIqbGE8mLq9-"
      },
      "execution_count": 8,
      "outputs": []
    },
    {
      "cell_type": "code",
      "source": [
        "grid=GridSearchCV(estimator=model,param_grid=param_grid,n_jobs=-1,cv=3,verbose=1)\n",
        "grid_result=grid.fit(x_train,y_train)\n",
        "\n",
        "print('Best :%f using %s'%(grid_result.best_score_,grid_result.best_params_))"
      ],
      "metadata": {
        "colab": {
          "base_uri": "https://localhost:8080/"
        },
        "id": "ss8GupzQMCRm",
        "outputId": "4402fe20-3109-4704-cd48-c5d5211a8241"
      },
      "execution_count": null,
      "outputs": [
        {
          "metadata": {
            "tags": null
          },
          "name": "stdout",
          "output_type": "stream",
          "text": [
            "Fitting 3 folds for each of 32 candidates, totalling 96 fits\n"
          ]
        }
      ]
    },
    {
      "cell_type": "code",
      "source": [],
      "metadata": {
        "id": "KATQrtifMTlP"
      },
      "execution_count": null,
      "outputs": []
    }
  ]
}