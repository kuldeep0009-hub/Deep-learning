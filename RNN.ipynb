{
  "nbformat": 4,
  "nbformat_minor": 0,
  "metadata": {
    "colab": {
      "provenance": [],
      "authorship_tag": "ABX9TyPpHdEkvZ70hReo1MfzC30+",
      "include_colab_link": true
    },
    "kernelspec": {
      "name": "python3",
      "display_name": "Python 3"
    },
    "language_info": {
      "name": "python"
    }
  },
  "cells": [
    {
      "cell_type": "markdown",
      "metadata": {
        "id": "view-in-github",
        "colab_type": "text"
      },
      "source": [
        "<a href=\"https://colab.research.google.com/github/kuldeep0009-hub/Deep-learning/blob/main/RNN.ipynb\" target=\"_parent\"><img src=\"https://colab.research.google.com/assets/colab-badge.svg\" alt=\"Open In Colab\"/></a>"
      ]
    },
    {
      "cell_type": "code",
      "source": [
        "import tensorflow"
      ],
      "metadata": {
        "id": "2U1w0jwgZIZz"
      },
      "execution_count": 368,
      "outputs": []
    },
    {
      "cell_type": "code",
      "execution_count": 369,
      "metadata": {
        "id": "41mqkghRZAff"
      },
      "outputs": [],
      "source": [
        "from tensorflow.keras.preprocessing.text import one_hot"
      ]
    },
    {
      "cell_type": "code",
      "source": [
        "sent=[\n",
        "    'i am kuldeep from noida',\n",
        "    'i am a student',\n",
        "    'i am from jss college',\n",
        "    'i lover trading'\n",
        "]"
      ],
      "metadata": {
        "id": "XdpdI2WFZYpi"
      },
      "execution_count": 370,
      "outputs": []
    },
    {
      "cell_type": "code",
      "source": [
        "voc_size=10000"
      ],
      "metadata": {
        "id": "lSZz19b2av1P"
      },
      "execution_count": 371,
      "outputs": []
    },
    {
      "cell_type": "code",
      "source": [
        "one_hot_apply=[one_hot(words,voc_size)for words in sent]"
      ],
      "metadata": {
        "id": "5rOCCIc0aeoJ"
      },
      "execution_count": 372,
      "outputs": []
    },
    {
      "cell_type": "code",
      "source": [
        "one_hot_apply"
      ],
      "metadata": {
        "colab": {
          "base_uri": "https://localhost:8080/"
        },
        "id": "SNNc3KwIay7n",
        "outputId": "15f4dbe6-e94a-4420-94d2-55f00b5c95ee"
      },
      "execution_count": 373,
      "outputs": [
        {
          "output_type": "execute_result",
          "data": {
            "text/plain": [
              "[[3839, 8098, 4353, 4398, 6352],\n",
              " [3839, 8098, 9221, 175],\n",
              " [3839, 8098, 4398, 4581, 7672],\n",
              " [3839, 8830, 2572]]"
            ]
          },
          "metadata": {},
          "execution_count": 373
        }
      ]
    },
    {
      "cell_type": "code",
      "source": [
        "##so here it means that like we have i am words in my sent they are represented as 8831 as i and 2675 as am\n",
        "#it means ki jo humara 200 voc_size usme 62th number pr 1 h tb humara vo i h and jb 80th number pr 1 h tb vo humara am h baaki sb zero to ye h humara vector"
      ],
      "metadata": {
        "id": "uatc_YzQaz3y"
      },
      "execution_count": 374,
      "outputs": []
    },
    {
      "cell_type": "code",
      "source": [
        "#word embedding representation\n",
        "from tensorflow.keras.layers import Embedding\n",
        "from tensorflow.keras.models import Sequential\n",
        "from tensorflow.keras.utils import pad_sequences"
      ],
      "metadata": {
        "id": "SVvK8Wy0bEJw"
      },
      "execution_count": 375,
      "outputs": []
    },
    {
      "cell_type": "code",
      "source": [
        "import numpy as np"
      ],
      "metadata": {
        "id": "i07ZdGmihRoF"
      },
      "execution_count": 376,
      "outputs": []
    },
    {
      "cell_type": "code",
      "source": [
        "sent_length=8\n",
        "embedded_docs=pad_sequences(one_hot_apply,padding='post',maxlen=sent_length) #pre pehle 0 post last me 0 lga dega"
      ],
      "metadata": {
        "id": "Wrhtv4omhdEn"
      },
      "execution_count": 377,
      "outputs": []
    },
    {
      "cell_type": "code",
      "source": [
        "print(embedded_docs)"
      ],
      "metadata": {
        "colab": {
          "base_uri": "https://localhost:8080/"
        },
        "id": "9ZvVX0lKhokn",
        "outputId": "cd584713-990a-46e0-acd3-4a83a6c71427"
      },
      "execution_count": 378,
      "outputs": [
        {
          "output_type": "stream",
          "name": "stdout",
          "text": [
            "[[3839 8098 4353 4398 6352    0    0    0]\n",
            " [3839 8098 9221  175    0    0    0    0]\n",
            " [3839 8098 4398 4581 7672    0    0    0]\n",
            " [3839 8830 2572    0    0    0    0    0]]\n"
          ]
        }
      ]
    },
    {
      "cell_type": "code",
      "source": [
        "##feature representation\n",
        "dim=10"
      ],
      "metadata": {
        "id": "n2V0MWS_h-f3"
      },
      "execution_count": 379,
      "outputs": []
    },
    {
      "cell_type": "code",
      "source": [
        "model=Sequential()\n",
        "model.add(Embedding(input_dim=voc_size,output_dim=dim,input_length=sent_length,input_shape=(sent_length,)))\n",
        "model.compile('adam','mse')\n",
        "\n"
      ],
      "metadata": {
        "id": "tIdE_XYOiPTt"
      },
      "execution_count": 380,
      "outputs": []
    },
    {
      "cell_type": "code",
      "source": [
        "model.summary()"
      ],
      "metadata": {
        "colab": {
          "base_uri": "https://localhost:8080/",
          "height": 161
        },
        "id": "8LZqocX3jECl",
        "outputId": "feb8d38d-6606-4fce-dd04-ca1ddf5972fe"
      },
      "execution_count": 381,
      "outputs": [
        {
          "output_type": "display_data",
          "data": {
            "text/plain": [
              "\u001b[1mModel: \"sequential_25\"\u001b[0m\n"
            ],
            "text/html": [
              "<pre style=\"white-space:pre;overflow-x:auto;line-height:normal;font-family:Menlo,'DejaVu Sans Mono',consolas,'Courier New',monospace\"><span style=\"font-weight: bold\">Model: \"sequential_25\"</span>\n",
              "</pre>\n"
            ]
          },
          "metadata": {}
        },
        {
          "output_type": "display_data",
          "data": {
            "text/plain": [
              "┏━━━━━━━━━━━━━━━━━━━━━━━━━━━━━━━━━┳━━━━━━━━━━━━━━━━━━━━━━━━┳━━━━━━━━━━━━━━━┓\n",
              "┃\u001b[1m \u001b[0m\u001b[1mLayer (type)                   \u001b[0m\u001b[1m \u001b[0m┃\u001b[1m \u001b[0m\u001b[1mOutput Shape          \u001b[0m\u001b[1m \u001b[0m┃\u001b[1m \u001b[0m\u001b[1m      Param #\u001b[0m\u001b[1m \u001b[0m┃\n",
              "┡━━━━━━━━━━━━━━━━━━━━━━━━━━━━━━━━━╇━━━━━━━━━━━━━━━━━━━━━━━━╇━━━━━━━━━━━━━━━┩\n",
              "│ embedding_26 (\u001b[38;5;33mEmbedding\u001b[0m)        │ (\u001b[38;5;45mNone\u001b[0m, \u001b[38;5;34m8\u001b[0m, \u001b[38;5;34m10\u001b[0m)          │       \u001b[38;5;34m100,000\u001b[0m │\n",
              "└─────────────────────────────────┴────────────────────────┴───────────────┘\n"
            ],
            "text/html": [
              "<pre style=\"white-space:pre;overflow-x:auto;line-height:normal;font-family:Menlo,'DejaVu Sans Mono',consolas,'Courier New',monospace\">┏━━━━━━━━━━━━━━━━━━━━━━━━━━━━━━━━━┳━━━━━━━━━━━━━━━━━━━━━━━━┳━━━━━━━━━━━━━━━┓\n",
              "┃<span style=\"font-weight: bold\"> Layer (type)                    </span>┃<span style=\"font-weight: bold\"> Output Shape           </span>┃<span style=\"font-weight: bold\">       Param # </span>┃\n",
              "┡━━━━━━━━━━━━━━━━━━━━━━━━━━━━━━━━━╇━━━━━━━━━━━━━━━━━━━━━━━━╇━━━━━━━━━━━━━━━┩\n",
              "│ embedding_26 (<span style=\"color: #0087ff; text-decoration-color: #0087ff\">Embedding</span>)        │ (<span style=\"color: #00d7ff; text-decoration-color: #00d7ff\">None</span>, <span style=\"color: #00af00; text-decoration-color: #00af00\">8</span>, <span style=\"color: #00af00; text-decoration-color: #00af00\">10</span>)          │       <span style=\"color: #00af00; text-decoration-color: #00af00\">100,000</span> │\n",
              "└─────────────────────────────────┴────────────────────────┴───────────────┘\n",
              "</pre>\n"
            ]
          },
          "metadata": {}
        },
        {
          "output_type": "display_data",
          "data": {
            "text/plain": [
              "\u001b[1m Total params: \u001b[0m\u001b[38;5;34m100,000\u001b[0m (390.62 KB)\n"
            ],
            "text/html": [
              "<pre style=\"white-space:pre;overflow-x:auto;line-height:normal;font-family:Menlo,'DejaVu Sans Mono',consolas,'Courier New',monospace\"><span style=\"font-weight: bold\"> Total params: </span><span style=\"color: #00af00; text-decoration-color: #00af00\">100,000</span> (390.62 KB)\n",
              "</pre>\n"
            ]
          },
          "metadata": {}
        },
        {
          "output_type": "display_data",
          "data": {
            "text/plain": [
              "\u001b[1m Trainable params: \u001b[0m\u001b[38;5;34m100,000\u001b[0m (390.62 KB)\n"
            ],
            "text/html": [
              "<pre style=\"white-space:pre;overflow-x:auto;line-height:normal;font-family:Menlo,'DejaVu Sans Mono',consolas,'Courier New',monospace\"><span style=\"font-weight: bold\"> Trainable params: </span><span style=\"color: #00af00; text-decoration-color: #00af00\">100,000</span> (390.62 KB)\n",
              "</pre>\n"
            ]
          },
          "metadata": {}
        },
        {
          "output_type": "display_data",
          "data": {
            "text/plain": [
              "\u001b[1m Non-trainable params: \u001b[0m\u001b[38;5;34m0\u001b[0m (0.00 B)\n"
            ],
            "text/html": [
              "<pre style=\"white-space:pre;overflow-x:auto;line-height:normal;font-family:Menlo,'DejaVu Sans Mono',consolas,'Courier New',monospace\"><span style=\"font-weight: bold\"> Non-trainable params: </span><span style=\"color: #00af00; text-decoration-color: #00af00\">0</span> (0.00 B)\n",
              "</pre>\n"
            ]
          },
          "metadata": {}
        }
      ]
    },
    {
      "cell_type": "code",
      "source": [
        "model.predict(embedded_docs)"
      ],
      "metadata": {
        "id": "27KikLqXjLIu",
        "colab": {
          "base_uri": "https://localhost:8080/"
        },
        "outputId": "84a6d23c-c2de-4a65-8002-8723ad68b08e"
      },
      "execution_count": 382,
      "outputs": [
        {
          "output_type": "stream",
          "name": "stdout",
          "text": [
            "\u001b[1m1/1\u001b[0m \u001b[32m━━━━━━━━━━━━━━━━━━━━\u001b[0m\u001b[37m\u001b[0m \u001b[1m0s\u001b[0m 54ms/step\n"
          ]
        },
        {
          "output_type": "execute_result",
          "data": {
            "text/plain": [
              "array([[[ 0.01346911, -0.01357143,  0.00246454, -0.00398787,\n",
              "         -0.04073912,  0.04606767,  0.02530434, -0.01821566,\n",
              "          0.030832  ,  0.04349654],\n",
              "        [ 0.00219407,  0.01486242, -0.02883944,  0.01856587,\n",
              "          0.00737245, -0.02583593, -0.00162135,  0.02581841,\n",
              "         -0.01565685,  0.027317  ],\n",
              "        [ 0.04427541, -0.04157263, -0.01932426, -0.01165156,\n",
              "         -0.02262884,  0.01693093,  0.02332026,  0.00282098,\n",
              "          0.03511504,  0.02696705],\n",
              "        [-0.0126608 , -0.04395815, -0.01131594, -0.0175925 ,\n",
              "          0.03491814, -0.04945778, -0.02033095, -0.01858323,\n",
              "         -0.02555641,  0.00325203],\n",
              "        [ 0.0423702 , -0.00755554, -0.00169476,  0.02957745,\n",
              "         -0.01315631,  0.01690097,  0.01877291, -0.04748879,\n",
              "         -0.01862764, -0.02579916],\n",
              "        [-0.04038461, -0.01687547, -0.03837084,  0.03953047,\n",
              "         -0.0308444 , -0.03550069, -0.03292643,  0.0247045 ,\n",
              "          0.00943668,  0.03975986],\n",
              "        [-0.04038461, -0.01687547, -0.03837084,  0.03953047,\n",
              "         -0.0308444 , -0.03550069, -0.03292643,  0.0247045 ,\n",
              "          0.00943668,  0.03975986],\n",
              "        [-0.04038461, -0.01687547, -0.03837084,  0.03953047,\n",
              "         -0.0308444 , -0.03550069, -0.03292643,  0.0247045 ,\n",
              "          0.00943668,  0.03975986]],\n",
              "\n",
              "       [[ 0.01346911, -0.01357143,  0.00246454, -0.00398787,\n",
              "         -0.04073912,  0.04606767,  0.02530434, -0.01821566,\n",
              "          0.030832  ,  0.04349654],\n",
              "        [ 0.00219407,  0.01486242, -0.02883944,  0.01856587,\n",
              "          0.00737245, -0.02583593, -0.00162135,  0.02581841,\n",
              "         -0.01565685,  0.027317  ],\n",
              "        [-0.02602   , -0.02124855, -0.01367855, -0.00948875,\n",
              "          0.04743436,  0.00623607, -0.00652448,  0.02225288,\n",
              "         -0.03756874,  0.00075193],\n",
              "        [ 0.00803399, -0.00134379, -0.04763023,  0.04843814,\n",
              "         -0.02565506,  0.01621902, -0.01398601, -0.0370822 ,\n",
              "          0.01204233,  0.00873423],\n",
              "        [-0.04038461, -0.01687547, -0.03837084,  0.03953047,\n",
              "         -0.0308444 , -0.03550069, -0.03292643,  0.0247045 ,\n",
              "          0.00943668,  0.03975986],\n",
              "        [-0.04038461, -0.01687547, -0.03837084,  0.03953047,\n",
              "         -0.0308444 , -0.03550069, -0.03292643,  0.0247045 ,\n",
              "          0.00943668,  0.03975986],\n",
              "        [-0.04038461, -0.01687547, -0.03837084,  0.03953047,\n",
              "         -0.0308444 , -0.03550069, -0.03292643,  0.0247045 ,\n",
              "          0.00943668,  0.03975986],\n",
              "        [-0.04038461, -0.01687547, -0.03837084,  0.03953047,\n",
              "         -0.0308444 , -0.03550069, -0.03292643,  0.0247045 ,\n",
              "          0.00943668,  0.03975986]],\n",
              "\n",
              "       [[ 0.01346911, -0.01357143,  0.00246454, -0.00398787,\n",
              "         -0.04073912,  0.04606767,  0.02530434, -0.01821566,\n",
              "          0.030832  ,  0.04349654],\n",
              "        [ 0.00219407,  0.01486242, -0.02883944,  0.01856587,\n",
              "          0.00737245, -0.02583593, -0.00162135,  0.02581841,\n",
              "         -0.01565685,  0.027317  ],\n",
              "        [-0.0126608 , -0.04395815, -0.01131594, -0.0175925 ,\n",
              "          0.03491814, -0.04945778, -0.02033095, -0.01858323,\n",
              "         -0.02555641,  0.00325203],\n",
              "        [-0.02090707,  0.02891869, -0.01583637,  0.00497192,\n",
              "          0.02969751, -0.02167368, -0.01403934, -0.01249442,\n",
              "          0.00600867,  0.00803008],\n",
              "        [ 0.03412608,  0.04022266, -0.01664108,  0.02698625,\n",
              "          0.04584452, -0.03988221,  0.02887036, -0.00599811,\n",
              "          0.00664898, -0.03387197],\n",
              "        [-0.04038461, -0.01687547, -0.03837084,  0.03953047,\n",
              "         -0.0308444 , -0.03550069, -0.03292643,  0.0247045 ,\n",
              "          0.00943668,  0.03975986],\n",
              "        [-0.04038461, -0.01687547, -0.03837084,  0.03953047,\n",
              "         -0.0308444 , -0.03550069, -0.03292643,  0.0247045 ,\n",
              "          0.00943668,  0.03975986],\n",
              "        [-0.04038461, -0.01687547, -0.03837084,  0.03953047,\n",
              "         -0.0308444 , -0.03550069, -0.03292643,  0.0247045 ,\n",
              "          0.00943668,  0.03975986]],\n",
              "\n",
              "       [[ 0.01346911, -0.01357143,  0.00246454, -0.00398787,\n",
              "         -0.04073912,  0.04606767,  0.02530434, -0.01821566,\n",
              "          0.030832  ,  0.04349654],\n",
              "        [ 0.02351885, -0.03753195,  0.00274682, -0.03452205,\n",
              "         -0.03325665, -0.03168925,  0.01641115,  0.00949556,\n",
              "          0.03931661,  0.02286533],\n",
              "        [ 0.0154126 ,  0.00739909, -0.01190113,  0.01483147,\n",
              "          0.02834108, -0.01180478, -0.02198662,  0.01241203,\n",
              "          0.03189829,  0.01096121],\n",
              "        [-0.04038461, -0.01687547, -0.03837084,  0.03953047,\n",
              "         -0.0308444 , -0.03550069, -0.03292643,  0.0247045 ,\n",
              "          0.00943668,  0.03975986],\n",
              "        [-0.04038461, -0.01687547, -0.03837084,  0.03953047,\n",
              "         -0.0308444 , -0.03550069, -0.03292643,  0.0247045 ,\n",
              "          0.00943668,  0.03975986],\n",
              "        [-0.04038461, -0.01687547, -0.03837084,  0.03953047,\n",
              "         -0.0308444 , -0.03550069, -0.03292643,  0.0247045 ,\n",
              "          0.00943668,  0.03975986],\n",
              "        [-0.04038461, -0.01687547, -0.03837084,  0.03953047,\n",
              "         -0.0308444 , -0.03550069, -0.03292643,  0.0247045 ,\n",
              "          0.00943668,  0.03975986],\n",
              "        [-0.04038461, -0.01687547, -0.03837084,  0.03953047,\n",
              "         -0.0308444 , -0.03550069, -0.03292643,  0.0247045 ,\n",
              "          0.00943668,  0.03975986]]], dtype=float32)"
            ]
          },
          "metadata": {},
          "execution_count": 382
        }
      ]
    },
    {
      "cell_type": "code",
      "source": [],
      "metadata": {
        "id": "3C9Q3IXRkuul"
      },
      "execution_count": 382,
      "outputs": []
    },
    {
      "cell_type": "code",
      "source": [],
      "metadata": {
        "id": "HXW9kX3Zolkx"
      },
      "execution_count": 382,
      "outputs": []
    }
  ]
}